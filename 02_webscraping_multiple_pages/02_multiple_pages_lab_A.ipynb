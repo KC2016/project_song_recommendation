{
 "cells": [
  {
   "cell_type": "code",
   "execution_count": null,
   "metadata": {},
   "outputs": [],
   "source": []
  },
  {
   "cell_type": "code",
   "execution_count": 141,
   "metadata": {},
   "outputs": [],
   "source": [
    "url = \"https://en.wikipedia.org/wiki/List_of_Billboard_number-one_singles\""
   ]
  },
  {
   "cell_type": "code",
   "execution_count": 142,
   "metadata": {},
   "outputs": [],
   "source": [
    "from bs4 import BeautifulSoup\n",
    "import requests"
   ]
  },
  {
   "cell_type": "code",
   "execution_count": 143,
   "metadata": {},
   "outputs": [
    {
     "data": {
      "text/plain": [
       "200"
      ]
     },
     "execution_count": 143,
     "metadata": {},
     "output_type": "execute_result"
    }
   ],
   "source": [
    "response = requests.get(url)\n",
    "response.status_code"
   ]
  },
  {
   "cell_type": "code",
   "execution_count": 144,
   "metadata": {},
   "outputs": [],
   "source": [
    "soup = BeautifulSoup(response.content, \"html.parser\")\n"
   ]
  },
  {
   "cell_type": "code",
   "execution_count": null,
   "metadata": {},
   "outputs": [],
   "source": [
    "\n",
    "    "
   ]
  },
  {
   "cell_type": "code",
   "execution_count": null,
   "metadata": {},
   "outputs": [],
   "source": []
  },
  {
   "cell_type": "code",
   "execution_count": null,
   "metadata": {},
   "outputs": [],
   "source": []
  },
  {
   "cell_type": "code",
   "execution_count": null,
   "metadata": {},
   "outputs": [],
   "source": []
  },
  {
   "cell_type": "code",
   "execution_count": 145,
   "metadata": {},
   "outputs": [],
   "source": [
    "# define a start variable that goes into the url\n",
    "iterations = range(1972, 1976, 1)\n",
    "\n",
    "# s_var = 101\n",
    "f_url = f\"https://en.wikipedia.org/wiki/List_of_Billboard_Hot_100_number_ones_of_{i}\""
   ]
  },
  {
   "cell_type": "code",
   "execution_count": 146,
   "metadata": {},
   "outputs": [
    {
     "name": "stdout",
     "output_type": "stream",
     "text": [
      "1972\n",
      "1973\n",
      "1974\n",
      "1975\n"
     ]
    }
   ],
   "source": [
    "for i in iterations:\n",
    "    print(i)"
   ]
  },
  {
   "cell_type": "code",
   "execution_count": 147,
   "metadata": {},
   "outputs": [],
   "source": [
    " url_lst = [f\"https://en.wikipedia.org/wiki/List_of_Billboard_Hot_100_number_ones_of_{i}\" for i in iterations]"
   ]
  },
  {
   "cell_type": "code",
   "execution_count": null,
   "metadata": {},
   "outputs": [],
   "source": []
  },
  {
   "cell_type": "markdown",
   "metadata": {},
   "source": [
    "## Put everything together"
   ]
  },
  {
   "cell_type": "code",
   "execution_count": 148,
   "metadata": {},
   "outputs": [],
   "source": [
    "from time import sleep\n",
    "# for i in range(5):\n",
    "#     print(i)\n",
    "#     sleep(2)"
   ]
  },
  {
   "cell_type": "code",
   "execution_count": 149,
   "metadata": {},
   "outputs": [
    {
     "name": "stdout",
     "output_type": "stream",
     "text": [
      "0\n",
      "I will sleep for 2 seconds\n",
      "1\n",
      "I will sleep for 2 seconds\n",
      "2\n",
      "I will sleep for 4 seconds\n",
      "3\n",
      "I will sleep for 3 seconds\n",
      "4\n",
      "I will sleep for 1 seconds\n"
     ]
    }
   ],
   "source": [
    "from random import randint\n",
    "for i in range(5):\n",
    "    print(i)\n",
    "    wait_time = randint(1,4)\n",
    "    print(\"I will sleep for \" + str(wait_time) + \" seconds\")\n",
    "    sleep(wait_time)"
   ]
  },
  {
   "cell_type": "code",
   "execution_count": 150,
   "metadata": {},
   "outputs": [],
   "source": [
    "### Put everything together"
   ]
  },
  {
   "cell_type": "code",
   "execution_count": 151,
   "metadata": {},
   "outputs": [
    {
     "name": "stdout",
     "output_type": "stream",
     "text": [
      "Status code: 200\n",
      "Status code: 200\n",
      "Status code: 200\n",
      "Status code: 200\n"
     ]
    },
    {
     "data": {
      "text/plain": [
       "['https://en.wikipedia.org/wiki/List_of_Billboard_Hot_100_number_ones_of_1972',\n",
       " 'https://en.wikipedia.org/wiki/List_of_Billboard_Hot_100_number_ones_of_1973',\n",
       " 'https://en.wikipedia.org/wiki/List_of_Billboard_Hot_100_number_ones_of_1974',\n",
       " 'https://en.wikipedia.org/wiki/List_of_Billboard_Hot_100_number_ones_of_1975']"
      ]
     },
     "execution_count": 151,
     "metadata": {},
     "output_type": "execute_result"
    }
   ],
   "source": [
    "from random import uniform\n",
    "pages = []\n",
    "url_lst = []\n",
    "\n",
    "for i in iterations:\n",
    "    start_at = str(i)\n",
    "    url = f\"https://en.wikipedia.org/wiki/List_of_Billboard_Hot_100_number_ones_of_{start_at}\"\n",
    "    url_lst.append(url)\n",
    "    \n",
    "    # start_at needs to be a string if we used this:\n",
    "    # url = \"https://www.imdb.com/search/title/?title_type=feature&release_date=1990-01-01,1992-12-31&user_rating=7.5,&start=\" + start_at + \"&ref_=adv_nxt\"\n",
    "    \n",
    "    # download the url\n",
    "    response = requests.get(url)\n",
    "    \n",
    "    # print the status code\n",
    "    print(\"Status code: \" + str(response.status_code))\n",
    "    \n",
    "    pages.append(response)\n",
    "    \n",
    "    # respectful nap\n",
    "    wait_time = uniform(0.3, 2)\n",
    "    sleep(wait_time)\n",
    "    \n",
    "url_lst"
   ]
  },
  {
   "cell_type": "code",
   "execution_count": 152,
   "metadata": {},
   "outputs": [],
   "source": [
    "soup = BeautifulSoup(pages[0].content, \"html.parser\")\n",
    "# soup"
   ]
  },
  {
   "cell_type": "code",
   "execution_count": 153,
   "metadata": {},
   "outputs": [
    {
     "data": {
      "text/plain": [
       "[<th>Song\n",
       " </th>]"
      ]
     },
     "execution_count": 153,
     "metadata": {},
     "output_type": "execute_result"
    }
   ],
   "source": [
    "soup.select(\"table:nth-child(8) > tbody > tr:nth-child(1) > th:nth-child(3)\")\n",
    "\n",
    "#mf-section-0 > table:nth-child(8) > tbody > tr:nth-child(2) > td:nth-child(3) > a"
   ]
  },
  {
   "cell_type": "code",
   "execution_count": 154,
   "metadata": {},
   "outputs": [
    {
     "data": {
      "text/plain": [
       "'Brand New Key'"
      ]
     },
     "execution_count": 154,
     "metadata": {},
     "output_type": "execute_result"
    }
   ],
   "source": [
    "soup.select(\"table:nth-child(8) > tbody > tr:nth-child(2) > td:nth-child(3) > a\")[0].text\n",
    "\n",
    "#mf-section-0 > table:nth-child(8) > tbody > tr:nth-child(2) > td:nth-child(3) > a\n"
   ]
  },
  {
   "cell_type": "code",
   "execution_count": null,
   "metadata": {},
   "outputs": [],
   "source": []
  },
  {
   "cell_type": "code",
   "execution_count": 165,
   "metadata": {},
   "outputs": [
    {
     "data": {
      "text/plain": [
       "<table class=\"wikitable\" style=\"font-size:90%;\">\n",
       "<caption>Key\n",
       "</caption>\n",
       "<tbody><tr>\n",
       "<td style=\"background-color:#FFFF99\"><img alt=\"number-one single of 1972\" data-file-height=\"14\" data-file-width=\"9\" decoding=\"async\" height=\"14\" src=\"//upload.wikimedia.org/wikipedia/commons/3/37/Dagger-14-plain.png\" width=\"9\"/>\n",
       "</td>\n",
       "<td>Indicates number-one single of 1972\n",
       "</td></tr></tbody></table>"
      ]
     },
     "execution_count": 165,
     "metadata": {},
     "output_type": "execute_result"
    }
   ],
   "source": [
    "tb=soup.find('table', class_='wikitable')\n",
    "tb\n",
    "# for s in tb.find_all('td'):\n",
    "#     song = s.find('a')\n",
    "#     if (song==None):\n",
    "#         continue\n",
    "#     print(song.get_text('title'))\n"
   ]
  },
  {
   "cell_type": "code",
   "execution_count": 166,
   "metadata": {},
   "outputs": [
    {
     "ename": "NameError",
     "evalue": "name 'wikitable' is not defined",
     "output_type": "error",
     "traceback": [
      "\u001b[0;31m---------------------------------------------------------------------------\u001b[0m",
      "\u001b[0;31mNameError\u001b[0m                                 Traceback (most recent call last)",
      "\u001b[0;32m<ipython-input-166-77bc4c045bdc>\u001b[0m in \u001b[0;36m<module>\u001b[0;34m\u001b[0m\n\u001b[0;32m----> 1\u001b[0;31m \u001b[0mtb\u001b[0m\u001b[0;34m=\u001b[0m\u001b[0msoup\u001b[0m\u001b[0;34m.\u001b[0m\u001b[0mfind\u001b[0m\u001b[0;34m(\u001b[0m\u001b[0;34m'table'\u001b[0m\u001b[0;34m,\u001b[0m \u001b[0mattrs\u001b[0m\u001b[0;34m=\u001b[0m\u001b[0;34m{\u001b[0m\u001b[0;34m'class_'\u001b[0m\u001b[0;34m:\u001b[0m\u001b[0mwikitable\u001b[0m\u001b[0;34m}\u001b[0m\u001b[0;34m)\u001b[0m\u001b[0;34m\u001b[0m\u001b[0;34m\u001b[0m\u001b[0m\n\u001b[0m",
      "\u001b[0;31mNameError\u001b[0m: name 'wikitable' is not defined"
     ]
    }
   ],
   "source": [
    "tb=soup.find('table', attrs={'class_':wikitable})"
   ]
  },
  {
   "cell_type": "code",
   "execution_count": null,
   "metadata": {},
   "outputs": [],
   "source": []
  },
  {
   "cell_type": "code",
   "execution_count": null,
   "metadata": {},
   "outputs": [],
   "source": []
  },
  {
   "cell_type": "code",
   "execution_count": 156,
   "metadata": {},
   "outputs": [
    {
     "data": {
      "text/plain": [
       "['Brand New Key',\n",
       " 'Brand New Key',\n",
       " 'Brand New Key',\n",
       " 'Brand New Key',\n",
       " 'Brand New Key',\n",
       " 'Brand New Key',\n",
       " 'Brand New Key',\n",
       " 'Brand New Key',\n",
       " 'Brand New Key',\n",
       " 'Brand New Key',\n",
       " 'Brand New Key']"
      ]
     },
     "execution_count": 156,
     "metadata": {},
     "output_type": "execute_result"
    }
   ],
   "source": [
    "list_sounds = []\n",
    "for i in range(2,13,1):\n",
    "    title = soup.select(f\"table:nth-child(8) > tbody > tr:nth-child({i}) > td:nth-child(3) > a\")\n",
    "    list_sounds.append(new_song)\n",
    "    i+=1\n",
    "\n",
    "list_sounds\n",
    "\n",
    "#     title = each.text.strip().encode('utf-8')\n",
    "#     print title\n",
    "\n",
    "    "
   ]
  },
  {
   "cell_type": "code",
   "execution_count": null,
   "metadata": {},
   "outputs": [],
   "source": []
  },
  {
   "cell_type": "code",
   "execution_count": null,
   "metadata": {},
   "outputs": [],
   "source": []
  },
  {
   "cell_type": "code",
   "execution_count": null,
   "metadata": {},
   "outputs": [],
   "source": []
  }
 ],
 "metadata": {
  "kernelspec": {
   "display_name": "Python 3",
   "language": "python",
   "name": "python3"
  },
  "language_info": {
   "codemirror_mode": {
    "name": "ipython",
    "version": 3
   },
   "file_extension": ".py",
   "mimetype": "text/x-python",
   "name": "python",
   "nbconvert_exporter": "python",
   "pygments_lexer": "ipython3",
   "version": "3.8.8"
  },
  "toc": {
   "base_numbering": 1,
   "nav_menu": {},
   "number_sections": true,
   "sideBar": true,
   "skip_h1_title": false,
   "title_cell": "Table of Contents",
   "title_sidebar": "Contents",
   "toc_cell": false,
   "toc_position": {},
   "toc_section_display": true,
   "toc_window_display": false
  }
 },
 "nbformat": 4,
 "nbformat_minor": 4
}
