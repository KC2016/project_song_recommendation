{
 "cells": [
  {
   "cell_type": "code",
   "execution_count": 13,
   "id": "d347156c",
   "metadata": {},
   "outputs": [],
   "source": [
    "html_doc = \"\"\"\n",
    "<!DOCTYPE html>\n",
    "<html><head><title>The Dormouse's story</title></head>\n",
    "<body>\n",
    "<p class=\"title\"><b>The Dormouse's story</b></p>\n",
    "​\n",
    "<p class=\"story\">Once upon a time there were three little sisters; and their names were\n",
    "<a href=\"http://example.com/elsie\" class=\"sister\" id=\"link1\">Elsie</a>,\n",
    "<a href=\"http://example.com/lacie\" class=\"sister\" id=\"link2\">Lacie</a> and\n",
    "<a href=\"http://example.com/tillie\" class=\"sister\" id=\"link3\">Tillie</a>;\n",
    "and they lived at the bottom of a well.</p>\n",
    "​\n",
    "<p class=\"story\">...</p>\n",
    "</html>\n",
    "Collapse\n",
    "\n",
    "\"\"\"\n",
    "\n"
   ]
  },
  {
   "cell_type": "code",
   "execution_count": 14,
   "id": "197fd6df",
   "metadata": {},
   "outputs": [],
   "source": [
    "from bs4 import BeautifulSoup"
   ]
  },
  {
   "cell_type": "code",
   "execution_count": 15,
   "id": "0b186ba6",
   "metadata": {},
   "outputs": [],
   "source": [
    "soup=BeautifulSoup(html_doc, 'html.parser')"
   ]
  },
  {
   "cell_type": "code",
   "execution_count": 16,
   "id": "30f77a3c",
   "metadata": {},
   "outputs": [
    {
     "data": {
      "text/plain": [
       "bs4.BeautifulSoup"
      ]
     },
     "execution_count": 16,
     "metadata": {},
     "output_type": "execute_result"
    }
   ],
   "source": [
    "type(soup)"
   ]
  },
  {
   "cell_type": "code",
   "execution_count": 17,
   "id": "99b1a75d",
   "metadata": {},
   "outputs": [
    {
     "name": "stdout",
     "output_type": "stream",
     "text": [
      "<!DOCTYPE html>\n",
      "<html>\n",
      " <head>\n",
      "  <title>\n",
      "   The Dormouse's story\n",
      "  </title>\n",
      " </head>\n",
      " <body>\n",
      "  <p class=\"title\">\n",
      "   <b>\n",
      "    The Dormouse's story\n",
      "   </b>\n",
      "  </p>\n",
      "  ​\n",
      "  <p class=\"story\">\n",
      "   Once upon a time there were three little sisters; and their names were\n",
      "   <a class=\"sister\" href=\"http://example.com/elsie\" id=\"link1\">\n",
      "    Elsie\n",
      "   </a>\n",
      "   ,\n",
      "   <a class=\"sister\" href=\"http://example.com/lacie\" id=\"link2\">\n",
      "    Lacie\n",
      "   </a>\n",
      "   and\n",
      "   <a class=\"sister\" href=\"http://example.com/tillie\" id=\"link3\">\n",
      "    Tillie\n",
      "   </a>\n",
      "   ;\n",
      "and they lived at the bottom of a well.\n",
      "  </p>\n",
      "  ​\n",
      "  <p class=\"story\">\n",
      "   ...\n",
      "  </p>\n",
      " </body>\n",
      "</html>\n",
      "Collapse\n",
      "\n"
     ]
    }
   ],
   "source": [
    "print(soup.prettify())"
   ]
  },
  {
   "cell_type": "code",
   "execution_count": 18,
   "id": "0afd74cb",
   "metadata": {},
   "outputs": [
    {
     "data": {
      "text/plain": [
       "<title>The Dormouse's story</title>"
      ]
     },
     "execution_count": 18,
     "metadata": {},
     "output_type": "execute_result"
    }
   ],
   "source": [
    "soup.title"
   ]
  },
  {
   "cell_type": "code",
   "execution_count": 19,
   "id": "7d6093b0",
   "metadata": {},
   "outputs": [
    {
     "data": {
      "text/plain": [
       "'title'"
      ]
     },
     "execution_count": 19,
     "metadata": {},
     "output_type": "execute_result"
    }
   ],
   "source": [
    "soup.title.name"
   ]
  },
  {
   "cell_type": "code",
   "execution_count": 20,
   "id": "a825daf2",
   "metadata": {},
   "outputs": [
    {
     "data": {
      "text/plain": [
       "\"The Dormouse's story\""
      ]
     },
     "execution_count": 20,
     "metadata": {},
     "output_type": "execute_result"
    }
   ],
   "source": [
    "soup.title.string"
   ]
  },
  {
   "cell_type": "code",
   "execution_count": 21,
   "id": "d00bf399",
   "metadata": {},
   "outputs": [
    {
     "data": {
      "text/plain": [
       "<head><title>The Dormouse's story</title></head>"
      ]
     },
     "execution_count": 21,
     "metadata": {},
     "output_type": "execute_result"
    }
   ],
   "source": [
    "soup.title.parent"
   ]
  },
  {
   "cell_type": "code",
   "execution_count": 22,
   "id": "8dd0a5d0",
   "metadata": {},
   "outputs": [
    {
     "data": {
      "text/plain": [
       "'head'"
      ]
     },
     "execution_count": 22,
     "metadata": {},
     "output_type": "execute_result"
    }
   ],
   "source": [
    "soup.title.parent.name"
   ]
  },
  {
   "cell_type": "code",
   "execution_count": 23,
   "id": "4a954bb6",
   "metadata": {},
   "outputs": [
    {
     "data": {
      "text/plain": [
       "\"The Dormouse's story\""
      ]
     },
     "execution_count": 23,
     "metadata": {},
     "output_type": "execute_result"
    }
   ],
   "source": [
    "soup.title.parent.string"
   ]
  },
  {
   "cell_type": "code",
   "execution_count": 24,
   "id": "86309c28",
   "metadata": {},
   "outputs": [
    {
     "data": {
      "text/plain": [
       "<p class=\"title\"><b>The Dormouse's story</b></p>"
      ]
     },
     "execution_count": 24,
     "metadata": {},
     "output_type": "execute_result"
    }
   ],
   "source": [
    "soup.p"
   ]
  },
  {
   "cell_type": "code",
   "execution_count": 25,
   "id": "b1d7706f",
   "metadata": {},
   "outputs": [
    {
     "data": {
      "text/plain": [
       "['title']"
      ]
     },
     "execution_count": 25,
     "metadata": {},
     "output_type": "execute_result"
    }
   ],
   "source": [
    "soup.p['class']"
   ]
  },
  {
   "cell_type": "code",
   "execution_count": 26,
   "id": "2ce3339f",
   "metadata": {},
   "outputs": [
    {
     "data": {
      "text/plain": [
       "[<p class=\"title\"><b>The Dormouse's story</b></p>,\n",
       " <p class=\"story\">Once upon a time there were three little sisters; and their names were\n",
       " <a class=\"sister\" href=\"http://example.com/elsie\" id=\"link1\">Elsie</a>,\n",
       " <a class=\"sister\" href=\"http://example.com/lacie\" id=\"link2\">Lacie</a> and\n",
       " <a class=\"sister\" href=\"http://example.com/tillie\" id=\"link3\">Tillie</a>;\n",
       " and they lived at the bottom of a well.</p>,\n",
       " <p class=\"story\">...</p>]"
      ]
     },
     "execution_count": 26,
     "metadata": {},
     "output_type": "execute_result"
    }
   ],
   "source": [
    "soup.find_all('p')"
   ]
  },
  {
   "cell_type": "code",
   "execution_count": 27,
   "id": "4df2a9da",
   "metadata": {},
   "outputs": [
    {
     "data": {
      "text/plain": [
       "'http://example.com/elsie'"
      ]
     },
     "execution_count": 27,
     "metadata": {},
     "output_type": "execute_result"
    }
   ],
   "source": [
    "soup.find_all('a')[0].get('href')"
   ]
  },
  {
   "cell_type": "code",
   "execution_count": 28,
   "id": "2ae0d39d",
   "metadata": {},
   "outputs": [
    {
     "name": "stdout",
     "output_type": "stream",
     "text": [
      "http://example.com/elsie\n",
      "http://example.com/lacie\n",
      "http://example.com/tillie\n"
     ]
    }
   ],
   "source": [
    "for atag in soup.find_all('a'):\n",
    "    print(atag.get('href'))"
   ]
  },
  {
   "cell_type": "markdown",
   "id": "aa2b4707",
   "metadata": {},
   "source": [
    "## option 2: using Beautiful soup \"the CSS way\""
   ]
  },
  {
   "cell_type": "code",
   "execution_count": 29,
   "id": "c0295d4c",
   "metadata": {},
   "outputs": [
    {
     "data": {
      "text/plain": [
       "[<a class=\"sister\" href=\"http://example.com/elsie\" id=\"link1\">Elsie</a>]"
      ]
     },
     "execution_count": 29,
     "metadata": {},
     "output_type": "execute_result"
    }
   ],
   "source": [
    "soup.select('#link1')"
   ]
  },
  {
   "cell_type": "code",
   "execution_count": 30,
   "id": "e975489d",
   "metadata": {},
   "outputs": [
    {
     "data": {
      "text/plain": [
       "'Elsie'"
      ]
     },
     "execution_count": 30,
     "metadata": {},
     "output_type": "execute_result"
    }
   ],
   "source": [
    "soup.select('a')[0].text"
   ]
  },
  {
   "cell_type": "code",
   "execution_count": 31,
   "id": "cac32bde",
   "metadata": {},
   "outputs": [
    {
     "data": {
      "text/plain": [
       "'Elsie'"
      ]
     },
     "execution_count": 31,
     "metadata": {},
     "output_type": "execute_result"
    }
   ],
   "source": [
    "soup.select('a')[0].get_text()"
   ]
  },
  {
   "cell_type": "code",
   "execution_count": 32,
   "id": "7e8bccff",
   "metadata": {},
   "outputs": [
    {
     "name": "stdout",
     "output_type": "stream",
     "text": [
      "Elsie\n",
      "Lacie\n",
      "Tillie\n"
     ]
    }
   ],
   "source": [
    "for atag in soup.select('a'):\n",
    "    print(atag.text)"
   ]
  },
  {
   "cell_type": "code",
   "execution_count": 33,
   "id": "0e88ffa1",
   "metadata": {},
   "outputs": [],
   "source": [
    "#main > div > span > div > div > div.lister > table > tbody > tr:nth-child(5) > td.titleColumn > a"
   ]
  },
  {
   "cell_type": "code",
   "execution_count": 34,
   "id": "e558315e",
   "metadata": {},
   "outputs": [],
   "source": [
    "# <a href=\"/title/tt0050083/?pf_rd_m=A2FGELUUNOQJNL&amp;pf_rd_p=e31d89dd-322d-4646-8962-327b42fe94b1&amp;pf_rd_r=5R1WKWW0BTDAHE8E65F2&amp;pf_rd_s=center-1&amp;pf_rd_t=15506&amp;pf_rd_i=top&amp;ref_=chttp_tt_5\" title=\"Sidney Lumet (dir.), Henry Fonda, Lee J. Cobb\">12 Angry Men</a>"
   ]
  },
  {
   "cell_type": "code",
   "execution_count": 35,
   "id": "8f2c650a",
   "metadata": {},
   "outputs": [],
   "source": [
    "# <h4>\n",
    "# <span class=\"unbold\">12.</span>\n",
    "# Forrest Gump\n",
    "# <span class=\"unbold\">(1994)</span>\n",
    "# </h4>"
   ]
  },
  {
   "cell_type": "code",
   "execution_count": 36,
   "id": "ed81e845",
   "metadata": {},
   "outputs": [],
   "source": [
    "#chart-content > div:nth-child(6) > div:nth-child(2) > div > a > span"
   ]
  },
  {
   "cell_type": "code",
   "execution_count": 37,
   "id": "7ddeac74",
   "metadata": {},
   "outputs": [],
   "source": [
    "# conda install -c anaconda requests"
   ]
  },
  {
   "cell_type": "code",
   "execution_count": 38,
   "id": "8d7e143d",
   "metadata": {},
   "outputs": [],
   "source": [
    "from bs4 import BeautifulSoup\n",
    "import requests\n",
    "import pandas as pd"
   ]
  },
  {
   "cell_type": "code",
   "execution_count": 39,
   "id": "b869e21e",
   "metadata": {},
   "outputs": [],
   "source": [
    "url = \"https://m.imdb.com/chart/top/\""
   ]
  },
  {
   "cell_type": "code",
   "execution_count": 40,
   "id": "ace2c50f",
   "metadata": {},
   "outputs": [
    {
     "data": {
      "text/plain": [
       "200"
      ]
     },
     "execution_count": 40,
     "metadata": {},
     "output_type": "execute_result"
    }
   ],
   "source": [
    "response = requests.get(url)\n",
    "response.status_code     # 200 mean sucess (status code)"
   ]
  },
  {
   "cell_type": "code",
   "execution_count": 45,
   "id": "906fbdd2",
   "metadata": {},
   "outputs": [],
   "source": [
    "soup = BeautifulSoup(response.content, 'html.parser')\n"
   ]
  },
  {
   "cell_type": "code",
   "execution_count": 42,
   "id": "1bb2f678",
   "metadata": {},
   "outputs": [],
   "source": [
    "# print(soup.prettify())"
   ]
  },
  {
   "cell_type": "code",
   "execution_count": 51,
   "id": "6eb9d10b",
   "metadata": {},
   "outputs": [
    {
     "data": {
      "text/plain": [
       "[]"
      ]
     },
     "execution_count": 51,
     "metadata": {},
     "output_type": "execute_result"
    }
   ],
   "source": [
    "soup.select(\"#main > div > span > div > div > div.lister > table > tbody > tr:nth-child(4) > td.titleColumn > a\")\n",
    "#sian"
   ]
  },
  {
   "cell_type": "code",
   "execution_count": null,
   "id": "d36df3ff",
   "metadata": {},
   "outputs": [],
   "source": []
  },
  {
   "cell_type": "code",
   "execution_count": null,
   "id": "7037f439",
   "metadata": {},
   "outputs": [],
   "source": []
  },
  {
   "cell_type": "code",
   "execution_count": 48,
   "id": "96fa8dfa",
   "metadata": {},
   "outputs": [
    {
     "data": {
      "text/plain": [
       "[]"
      ]
     },
     "execution_count": 48,
     "metadata": {},
     "output_type": "execute_result"
    }
   ],
   "source": [
    "soup.select(\"td.titleColumn\")"
   ]
  },
  {
   "cell_type": "code",
   "execution_count": 47,
   "id": "60a6b6fb",
   "metadata": {},
   "outputs": [
    {
     "ename": "IndexError",
     "evalue": "list index out of range",
     "output_type": "error",
     "traceback": [
      "\u001b[0;31m---------------------------------------------------------------------------\u001b[0m",
      "\u001b[0;31mIndexError\u001b[0m                                Traceback (most recent call last)",
      "\u001b[0;32m<ipython-input-47-02f7c1241aaf>\u001b[0m in \u001b[0;36m<module>\u001b[0;34m\u001b[0m\n\u001b[0;32m----> 1\u001b[0;31m \u001b[0msoup\u001b[0m\u001b[0;34m.\u001b[0m\u001b[0mselect\u001b[0m\u001b[0;34m(\u001b[0m\u001b[0;34m\"td.titleColumn a\"\u001b[0m\u001b[0;34m)\u001b[0m\u001b[0;34m[\u001b[0m\u001b[0;36m0\u001b[0m\u001b[0;34m]\u001b[0m\u001b[0;34m.\u001b[0m\u001b[0mtext\u001b[0m\u001b[0;34m\u001b[0m\u001b[0;34m\u001b[0m\u001b[0m\n\u001b[0m",
      "\u001b[0;31mIndexError\u001b[0m: list index out of range"
     ]
    }
   ],
   "source": [
    "soup.select(\"td.titleColumn a\")[0].text"
   ]
  },
  {
   "cell_type": "code",
   "execution_count": null,
   "id": "96e4f9b0",
   "metadata": {},
   "outputs": [],
   "source": [
    "soup.select(\"td.titleColumn a\")[0]['title']"
   ]
  },
  {
   "cell_type": "code",
   "execution_count": null,
   "id": "d507f5fb",
   "metadata": {},
   "outputs": [],
   "source": []
  },
  {
   "cell_type": "code",
   "execution_count": null,
   "id": "6fde3f63",
   "metadata": {},
   "outputs": [],
   "source": []
  },
  {
   "cell_type": "markdown",
   "id": "6c21f914",
   "metadata": {},
   "source": [
    "## Now make it work for all the movies"
   ]
  },
  {
   "cell_type": "code",
   "execution_count": 49,
   "id": "deb1acc3",
   "metadata": {},
   "outputs": [],
   "source": [
    "# movie_lst=soup.select(\"td.titleColumn a\")\n",
    "# yr_lst = soup.select(\"td.tittleColumn span.secondaryInfo\")"
   ]
  },
  {
   "cell_type": "code",
   "execution_count": null,
   "id": "e4e751ec",
   "metadata": {},
   "outputs": [],
   "source": [
    "soup.select(\"td.titleColumn span.second...\")[0].texttitle= []"
   ]
  },
  {
   "cell_type": "code",
   "execution_count": 53,
   "id": "34269e4f",
   "metadata": {},
   "outputs": [],
   "source": [
    "from \n",
    "\n",
    "title=[]\n",
    "dir_stars = []\n",
    "year = []\n",
    "\n",
    "len_movies = len(movie_lst)\n",
    "\n",
    "\n",
    "for i in range(len_movies):\n",
    "    title.append(soup.select(\"td.titleColumn a\")[i].text)\n",
    "    dir_stars.append(soup.select(\"td.titleColumn a\")[i]['title'])\n",
    "    year.append(soup.select(\"td.titleColumn span.secondaryInfo\")[i].text)"
   ]
  },
  {
   "cell_type": "code",
   "execution_count": 54,
   "id": "533fc7cf",
   "metadata": {},
   "outputs": [
    {
     "data": {
      "text/plain": [
       "[]"
      ]
     },
     "execution_count": 54,
     "metadata": {},
     "output_type": "execute_result"
    }
   ],
   "source": [
    "year_clean = [yr.strip(')').strip('(') for yr in year]"
   ]
  },
  {
   "cell_type": "code",
   "execution_count": null,
   "id": "60a089e5",
   "metadata": {},
   "outputs": [],
   "source": [
    "actor1=[]\n",
    "actor2=[]\n",
    "dir1=[]\n",
    "for dir_star in dir_stars:\n",
    "    temporary_people = dir.split(\",\") # only 3\n",
    "    dir1.append(temporary_people[0].replace (' (dir.)',''))\n",
    "    actor1.append(temporary_people[1].replace(' ', ''))\n",
    "    actor1.append(temporary_people[2].replace(' ', ''))"
   ]
  },
  {
   "cell_type": "code",
   "execution_count": null,
   "id": "4544e789",
   "metadata": {},
   "outputs": [],
   "source": []
  },
  {
   "cell_type": "code",
   "execution_count": null,
   "id": "eb1bc56e",
   "metadata": {},
   "outputs": [],
   "source": []
  },
  {
   "cell_type": "code",
   "execution_count": 55,
   "id": "9154d8a1",
   "metadata": {},
   "outputs": [],
   "source": [
    "movies = pd.DataFrame({'year':year,\n",
    "                      'title': title,\n",
    "                      'dir_stars': dir_stars})"
   ]
  },
  {
   "cell_type": "code",
   "execution_count": null,
   "id": "23fc3fea",
   "metadata": {},
   "outputs": [],
   "source": []
  },
  {
   "cell_type": "code",
   "execution_count": null,
   "id": "12f6be9f",
   "metadata": {},
   "outputs": [],
   "source": []
  },
  {
   "cell_type": "code",
   "execution_count": null,
   "id": "efd54da7",
   "metadata": {},
   "outputs": [],
   "source": []
  },
  {
   "cell_type": "code",
   "execution_count": null,
   "id": "8e9c5a39",
   "metadata": {},
   "outputs": [],
   "source": []
  },
  {
   "cell_type": "code",
   "execution_count": null,
   "id": "93bd5e1b",
   "metadata": {},
   "outputs": [],
   "source": []
  }
 ],
 "metadata": {
  "kernelspec": {
   "display_name": "Python 3",
   "language": "python",
   "name": "python3"
  },
  "language_info": {
   "codemirror_mode": {
    "name": "ipython",
    "version": 3
   },
   "file_extension": ".py",
   "mimetype": "text/x-python",
   "name": "python",
   "nbconvert_exporter": "python",
   "pygments_lexer": "ipython3",
   "version": "3.8.8"
  },
  "toc": {
   "base_numbering": 1,
   "nav_menu": {},
   "number_sections": true,
   "sideBar": true,
   "skip_h1_title": false,
   "title_cell": "Table of Contents",
   "title_sidebar": "Contents",
   "toc_cell": false,
   "toc_position": {},
   "toc_section_display": true,
   "toc_window_display": false
  }
 },
 "nbformat": 4,
 "nbformat_minor": 5
}
