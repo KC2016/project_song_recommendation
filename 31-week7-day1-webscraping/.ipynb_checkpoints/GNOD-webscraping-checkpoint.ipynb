{
 "cells": [
  {
   "cell_type": "code",
   "execution_count": 195,
   "id": "053a9aa7",
   "metadata": {},
   "outputs": [],
   "source": [
    "# import the packages\n",
    "import requests\n",
    "import pandas as pd\n",
    "import bs4\n",
    "from bs4 import BeautifulSoup \n",
    "from tqdm.notebook import tqdm"
   ]
  },
  {
   "cell_type": "code",
   "execution_count": 224,
   "id": "9d73461e",
   "metadata": {},
   "outputs": [],
   "source": [
    "# store the website in soup\n",
    "url = 'https://www.billboard.com/charts/hot-100'\n",
    "response = requests.get(url)\n",
    "html = response.content\n",
    "soup = BeautifulSoup(response.content, 'html.parser')"
   ]
  },
  {
   "cell_type": "code",
   "execution_count": 225,
   "id": "79a1c035",
   "metadata": {},
   "outputs": [
    {
     "data": {
      "text/plain": [
       "bs4.BeautifulSoup"
      ]
     },
     "execution_count": 225,
     "metadata": {},
     "output_type": "execute_result"
    }
   ],
   "source": [
    "type(soup)"
   ]
  },
  {
   "cell_type": "code",
   "execution_count": 226,
   "id": "52f03b71",
   "metadata": {},
   "outputs": [
    {
     "data": {
      "text/plain": [
       "100"
      ]
     },
     "execution_count": 226,
     "metadata": {},
     "output_type": "execute_result"
    }
   ],
   "source": [
    "# create three emty lists for songs, artists and rank\n",
    "name_song = []\n",
    "artist_list = []\n",
    "rank_list = []\n",
    "\n",
    "# check the length of the list of songs\n",
    "len_name_song = len(scraped.select(\".chart-element__information__song\"))\n",
    "len_name_song"
   ]
  },
  {
   "cell_type": "code",
   "execution_count": 227,
   "id": "deaaa93c",
   "metadata": {},
   "outputs": [
    {
     "name": "stdout",
     "output_type": "stream",
     "text": [
      "[<span class=\"chart-element__information__song text--truncate color--primary\">Rapstar</span>, <span class=\"chart-element__information__song text--truncate color--primary\">Leave The Door Open</span>, <span class=\"chart-element__information__song text--truncate color--primary\">Peaches</span>, <span class=\"chart-element__information__song text--truncate color--primary\">Montero (Call Me By Your Name)</span>, <span class=\"chart-element__information__song text--truncate color--primary\">Levitating</span>, <span class=\"chart-element__information__song text--truncate color--primary\">Save Your Tears</span>, <span class=\"chart-element__information__song text--truncate color--primary\">Astronaut In The Ocean</span>, <span class=\"chart-element__information__song text--truncate color--primary\">Kiss Me More</span>, <span class=\"chart-element__information__song text--truncate color--primary\">Up</span>, <span class=\"chart-element__information__song text--truncate color--primary\">Drivers License</span>, <span class=\"chart-element__information__song text--truncate color--primary\">Deja Vu</span>, <span class=\"chart-element__information__song text--truncate color--primary\">Solid</span>, <span class=\"chart-element__information__song text--truncate color--primary\">Blinding Lights</span>, <span class=\"chart-element__information__song text--truncate color--primary\">Beat Box</span>, <span class=\"chart-element__information__song text--truncate color--primary\">Best Friend</span>, <span class=\"chart-element__information__song text--truncate color--primary\">Calling My Phone</span>, <span class=\"chart-element__information__song text--truncate color--primary\">What You Know Bout Love</span>, <span class=\"chart-element__information__song text--truncate color--primary\">Ski</span>, <span class=\"chart-element__information__song text--truncate color--primary\">Mood</span>, <span class=\"chart-element__information__song text--truncate color--primary\">Heartbreak Anniversary</span>, <span class=\"chart-element__information__song text--truncate color--primary\">The Good Ones</span>, <span class=\"chart-element__information__song text--truncate color--primary\">Beautiful Mistakes</span>, <span class=\"chart-element__information__song text--truncate color--primary\">Back In Blood</span>, <span class=\"chart-element__information__song text--truncate color--primary\">Go Crazy</span>, <span class=\"chart-element__information__song text--truncate color--primary\">You Broke Me First.</span>, <span class=\"chart-element__information__song text--truncate color--primary\">34+35</span>, <span class=\"chart-element__information__song text--truncate color--primary\">My Ex's Best Friend</span>, <span class=\"chart-element__information__song text--truncate color--primary\">What's Next</span>, <span class=\"chart-element__information__song text--truncate color--primary\">Dakiti</span>, <span class=\"chart-element__information__song text--truncate color--primary\">Therefore I Am</span>, <span class=\"chart-element__information__song text--truncate color--primary\">Without You</span>, <span class=\"chart-element__information__song text--truncate color--primary\">On Me</span>, <span class=\"chart-element__information__song text--truncate color--primary\">Positions</span>, <span class=\"chart-element__information__song text--truncate color--primary\">You're Mines Still</span>, <span class=\"chart-element__information__song text--truncate color--primary\">Forever After All</span>, <span class=\"chart-element__information__song text--truncate color--primary\">Wants And Needs</span>, <span class=\"chart-element__information__song text--truncate color--primary\">Track Star</span>, <span class=\"chart-element__information__song text--truncate color--primary\">We're Good</span>, <span class=\"chart-element__information__song text--truncate color--primary\">Heat Waves</span>, <span class=\"chart-element__information__song text--truncate color--primary\">For The Night</span>, <span class=\"chart-element__information__song text--truncate color--primary\">Hell Of A View</span>, <span class=\"chart-element__information__song text--truncate color--primary\">Made For You</span>, <span class=\"chart-element__information__song text--truncate color--primary\">No More Parties</span>, <span class=\"chart-element__information__song text--truncate color--primary\">Good Days</span>, <span class=\"chart-element__information__song text--truncate color--primary\">Starting Over</span>, <span class=\"chart-element__information__song text--truncate color--primary\">Diamonds Dancing</span>, <span class=\"chart-element__information__song text--truncate color--primary\">Goosebumps</span>, <span class=\"chart-element__information__song text--truncate color--primary\">Tombstone</span>, <span class=\"chart-element__information__song text--truncate color--primary\">Breaking Up Was Easy In The 90's</span>, <span class=\"chart-element__information__song text--truncate color--primary\">Somebody Like That</span>, <span class=\"chart-element__information__song text--truncate color--primary\">Streets</span>, <span class=\"chart-element__information__song text--truncate color--primary\">What's Your Country Song</span>, <span class=\"chart-element__information__song text--truncate color--primary\">Time Today</span>, <span class=\"chart-element__information__song text--truncate color--primary\">Telepatia</span>, <span class=\"chart-element__information__song text--truncate color--primary\">Cry Baby</span>, <span class=\"chart-element__information__song text--truncate color--primary\">Hold On</span>, <span class=\"chart-element__information__song text--truncate color--primary\">Street Runner</span>, <span class=\"chart-element__information__song text--truncate color--primary\">Just The Way</span>, <span class=\"chart-element__information__song text--truncate color--primary\">Proud Of You</span>, <span class=\"chart-element__information__song text--truncate color--primary\">Willow</span>, <span class=\"chart-element__information__song text--truncate color--primary\">Damage</span>, <span class=\"chart-element__information__song text--truncate color--primary\">Richer</span>, <span class=\"chart-element__information__song text--truncate color--primary\">Glad You Exist</span>, <span class=\"chart-element__information__song text--truncate color--primary\">La Noche de Anoche</span>, <span class=\"chart-element__information__song text--truncate color--primary\">Settling Down</span>, <span class=\"chart-element__information__song text--truncate color--primary\">Came And Saw</span>, <span class=\"chart-element__information__song text--truncate color--primary\">Headshot</span>, <span class=\"chart-element__information__song text--truncate color--primary\">Anyone</span>, <span class=\"chart-element__information__song text--truncate color--primary\">Down To One</span>, <span class=\"chart-element__information__song text--truncate color--primary\">Lady</span>, <span class=\"chart-element__information__song text--truncate color--primary\">Quicksand</span>, <span class=\"chart-element__information__song text--truncate color--primary\">One Too Many</span>, <span class=\"chart-element__information__song text--truncate color--primary\">Famous Friends</span>, <span class=\"chart-element__information__song text--truncate color--primary\">Gone</span>, <span class=\"chart-element__information__song text--truncate color--primary\">My Head And My Heart</span>, <span class=\"chart-element__information__song text--truncate color--primary\">Almost Maybes</span>, <span class=\"chart-element__information__song text--truncate color--primary\">Paid The Fine</span>, <span class=\"chart-element__information__song text--truncate color--primary\">The Business</span>, <span class=\"chart-element__information__song text--truncate color--primary\">Drunk (And I Don't Wanna Go Home)</span>, <span class=\"chart-element__information__song text--truncate color--primary\">Masterpiece</span>, <span class=\"chart-element__information__song text--truncate color--primary\">pov</span>, <span class=\"chart-element__information__song text--truncate color--primary\">Long Live</span>, <span class=\"chart-element__information__song text--truncate color--primary\">Hellcats &amp; Trackhawks</span>, <span class=\"chart-element__information__song text--truncate color--primary\">Follow You</span>, <span class=\"chart-element__information__song text--truncate color--primary\">Momma's House</span>, <span class=\"chart-element__information__song text--truncate color--primary\">Nobody</span>, <span class=\"chart-element__information__song text--truncate color--primary\">Big Gangsta</span>, <span class=\"chart-element__information__song text--truncate color--primary\">Pick Up Your Feelings</span>, <span class=\"chart-element__information__song text--truncate color--primary\">Lil Bit</span>, <span class=\"chart-element__information__song text--truncate color--primary\">Mr. Perfectly Fine (Taylor's Version) (From The Vault)</span>, <span class=\"chart-element__information__song text--truncate color--primary\">Chasing After You</span>, <span class=\"chart-element__information__song text--truncate color--primary\">Wasted On You</span>, <span class=\"chart-element__information__song text--truncate color--primary\">Run It Up</span>, <span class=\"chart-element__information__song text--truncate color--primary\">Arcade</span>, <span class=\"chart-element__information__song text--truncate color--primary\">You Got It</span>, <span class=\"chart-element__information__song text--truncate color--primary\">Go!</span>, <span class=\"chart-element__information__song text--truncate color--primary\">Drankin N Smokin</span>, <span class=\"chart-element__information__song text--truncate color--primary\">Monsters</span>, <span class=\"chart-element__information__song text--truncate color--primary\">Slatty</span>, <span class=\"chart-element__information__song text--truncate color--primary\">4 Da Gang</span>]\n"
     ]
    }
   ],
   "source": [
    "# print conbtent of the list of songs\n",
    "print(scraped.select(\".chart-element__information__song\"))"
   ]
  },
  {
   "cell_type": "code",
   "execution_count": null,
   "id": "13cb0154",
   "metadata": {},
   "outputs": [],
   "source": []
  },
  {
   "cell_type": "code",
   "execution_count": 215,
   "id": "51e9dd7d",
   "metadata": {},
   "outputs": [],
   "source": [
    "# create an iteraction to include the namme of song, artist and rank\n",
    "for i in range(len_songs):\n",
    "    name_song.append(scraped.select('.chart-element__information__song')[i].text)\n",
    "    artist_list.append(scraped.select('.chart-element__information__artist')[i].text)\n",
    "    rank_list.append(scraped.select('.chart-element__rank__number')[i].text)\n"
   ]
  },
  {
   "cell_type": "code",
   "execution_count": 216,
   "id": "8271ad40",
   "metadata": {},
   "outputs": [
    {
     "data": {
      "text/html": [
       "<div>\n",
       "<style scoped>\n",
       "    .dataframe tbody tr th:only-of-type {\n",
       "        vertical-align: middle;\n",
       "    }\n",
       "\n",
       "    .dataframe tbody tr th {\n",
       "        vertical-align: top;\n",
       "    }\n",
       "\n",
       "    .dataframe thead th {\n",
       "        text-align: right;\n",
       "    }\n",
       "</style>\n",
       "<table border=\"1\" class=\"dataframe\">\n",
       "  <thead>\n",
       "    <tr style=\"text-align: right;\">\n",
       "      <th></th>\n",
       "      <th>Rank</th>\n",
       "      <th>Artists</th>\n",
       "      <th>Song</th>\n",
       "    </tr>\n",
       "  </thead>\n",
       "  <tbody>\n",
       "    <tr>\n",
       "      <th>0</th>\n",
       "      <td>1</td>\n",
       "      <td>Polo G</td>\n",
       "      <td>Rapstar</td>\n",
       "    </tr>\n",
       "    <tr>\n",
       "      <th>1</th>\n",
       "      <td>2</td>\n",
       "      <td>Silk Sonic (Bruno Mars &amp; Anderson .Paak)</td>\n",
       "      <td>Leave The Door Open</td>\n",
       "    </tr>\n",
       "    <tr>\n",
       "      <th>2</th>\n",
       "      <td>3</td>\n",
       "      <td>Justin Bieber Featuring Daniel Caesar &amp; Giveon</td>\n",
       "      <td>Peaches</td>\n",
       "    </tr>\n",
       "    <tr>\n",
       "      <th>3</th>\n",
       "      <td>4</td>\n",
       "      <td>Lil Nas X</td>\n",
       "      <td>Montero (Call Me By Your Name)</td>\n",
       "    </tr>\n",
       "    <tr>\n",
       "      <th>4</th>\n",
       "      <td>5</td>\n",
       "      <td>Dua Lipa Featuring DaBaby</td>\n",
       "      <td>Levitating</td>\n",
       "    </tr>\n",
       "    <tr>\n",
       "      <th>...</th>\n",
       "      <td>...</td>\n",
       "      <td>...</td>\n",
       "      <td>...</td>\n",
       "    </tr>\n",
       "    <tr>\n",
       "      <th>95</th>\n",
       "      <td>96</td>\n",
       "      <td>Moneybagg Yo Featuring BIG30</td>\n",
       "      <td>Go!</td>\n",
       "    </tr>\n",
       "    <tr>\n",
       "      <th>96</th>\n",
       "      <td>97</td>\n",
       "      <td>Future &amp; Lil Uzi Vert</td>\n",
       "      <td>Drankin N Smokin</td>\n",
       "    </tr>\n",
       "    <tr>\n",
       "      <th>97</th>\n",
       "      <td>98</td>\n",
       "      <td>All Time Low Featuring Demi Lovato &amp; blackbear</td>\n",
       "      <td>Monsters</td>\n",
       "    </tr>\n",
       "    <tr>\n",
       "      <th>98</th>\n",
       "      <td>99</td>\n",
       "      <td>Young Thug &amp; Gunna Featuring Yak Gotti &amp; Lil Duke</td>\n",
       "      <td>Slatty</td>\n",
       "    </tr>\n",
       "    <tr>\n",
       "      <th>99</th>\n",
       "      <td>100</td>\n",
       "      <td>42 Dugg &amp; Roddy Ricch</td>\n",
       "      <td>4 Da Gang</td>\n",
       "    </tr>\n",
       "  </tbody>\n",
       "</table>\n",
       "<p>100 rows × 3 columns</p>\n",
       "</div>"
      ],
      "text/plain": [
       "   Rank                                            Artists  \\\n",
       "0     1                                             Polo G   \n",
       "1     2           Silk Sonic (Bruno Mars & Anderson .Paak)   \n",
       "2     3     Justin Bieber Featuring Daniel Caesar & Giveon   \n",
       "3     4                                          Lil Nas X   \n",
       "4     5                          Dua Lipa Featuring DaBaby   \n",
       "..  ...                                                ...   \n",
       "95   96                       Moneybagg Yo Featuring BIG30   \n",
       "96   97                              Future & Lil Uzi Vert   \n",
       "97   98    All Time Low Featuring Demi Lovato & blackbear    \n",
       "98   99  Young Thug & Gunna Featuring Yak Gotti & Lil Duke   \n",
       "99  100                              42 Dugg & Roddy Ricch   \n",
       "\n",
       "                              Song  \n",
       "0                          Rapstar  \n",
       "1              Leave The Door Open  \n",
       "2                          Peaches  \n",
       "3   Montero (Call Me By Your Name)  \n",
       "4                       Levitating  \n",
       "..                             ...  \n",
       "95                             Go!  \n",
       "96                Drankin N Smokin  \n",
       "97                        Monsters  \n",
       "98                          Slatty  \n",
       "99                       4 Da Gang  \n",
       "\n",
       "[100 rows x 3 columns]"
      ]
     },
     "execution_count": 216,
     "metadata": {},
     "output_type": "execute_result"
    }
   ],
   "source": [
    "# create the dataframe with the variables\n",
    "df = pd.DataFrame({'Rank': rank_list,\n",
    "                   'Song': name_song,\n",
    "                   'Artists': artist_list})\n",
    "df"
   ]
  },
  {
   "cell_type": "code",
   "execution_count": 221,
   "id": "9ea6868d",
   "metadata": {},
   "outputs": [
    {
     "name": "stdout",
     "output_type": "stream",
     "text": [
      "   Rank                                            Artists  \\\n",
      "0     1                                             Polo G   \n",
      "1     2           Silk Sonic (Bruno Mars & Anderson .Paak)   \n",
      "2     3     Justin Bieber Featuring Daniel Caesar & Giveon   \n",
      "3     4                                          Lil Nas X   \n",
      "4     5                          Dua Lipa Featuring DaBaby   \n",
      "..  ...                                                ...   \n",
      "95   96                       Moneybagg Yo Featuring BIG30   \n",
      "96   97                              Future & Lil Uzi Vert   \n",
      "97   98    All Time Low Featuring Demi Lovato & blackbear    \n",
      "98   99  Young Thug & Gunna Featuring Yak Gotti & Lil Duke   \n",
      "99  100                              42 Dugg & Roddy Ricch   \n",
      "\n",
      "                              Song  \n",
      "0                          Rapstar  \n",
      "1              Leave The Door Open  \n",
      "2                          Peaches  \n",
      "3   Montero (Call Me By Your Name)  \n",
      "4                       Levitating  \n",
      "..                             ...  \n",
      "95                             Go!  \n",
      "96                Drankin N Smokin  \n",
      "97                        Monsters  \n",
      "98                          Slatty  \n",
      "99                       4 Da Gang  \n",
      "\n",
      "[100 rows x 3 columns]\n"
     ]
    }
   ],
   "source": [
    "# save as df file\n",
    "df.to_csv (r'data/Billboard_scraping.csv', index = False, header=True)\n",
    "\n",
    "print (df)"
   ]
  },
  {
   "cell_type": "code",
   "execution_count": null,
   "id": "4b524297",
   "metadata": {},
   "outputs": [],
   "source": []
  }
 ],
 "metadata": {
  "kernelspec": {
   "display_name": "Python 3",
   "language": "python",
   "name": "python3"
  },
  "language_info": {
   "codemirror_mode": {
    "name": "ipython",
    "version": 3
   },
   "file_extension": ".py",
   "mimetype": "text/x-python",
   "name": "python",
   "nbconvert_exporter": "python",
   "pygments_lexer": "ipython3",
   "version": "3.8.8"
  },
  "toc": {
   "base_numbering": 1,
   "nav_menu": {},
   "number_sections": true,
   "sideBar": true,
   "skip_h1_title": false,
   "title_cell": "Table of Contents",
   "title_sidebar": "Contents",
   "toc_cell": false,
   "toc_position": {},
   "toc_section_display": true,
   "toc_window_display": false
  }
 },
 "nbformat": 4,
 "nbformat_minor": 5
}
