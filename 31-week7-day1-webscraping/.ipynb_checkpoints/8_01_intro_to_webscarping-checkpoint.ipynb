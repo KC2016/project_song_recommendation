{
 "cells": [
  {
   "cell_type": "code",
   "execution_count": 1,
   "id": "diagnostic-seattle",
   "metadata": {},
   "outputs": [],
   "source": [
    "# we save the whole code here to be more agile and handy\n",
    "html_doc= \"\"\"<html><head><title>The Dormouse's story</title></head>\n",
    "<body>\n",
    "<p class=\"title\"><b>The Dormouse's story</b></p>\n",
    "\n",
    "<p class=\"story\">Once upon a time there were three little sisters; and their names were\n",
    "<a href=\"http://example.com/elsie\" class=\"sister\" id=\"link1\">Elsie</a>,\n",
    "<a href=\"http://example.com/lacie\" class=\"sister\" id=\"link2\">Lacie</a> and\n",
    "<a href=\"http://example.com/tillie\" class=\"sister\" id=\"link3\">Tillie</a>;\n",
    "and they lived at the bottom of a well.</p>\n",
    "\n",
    "<p class=\"story\">...</p>\n",
    "</body></html>\"\"\""
   ]
  },
  {
   "cell_type": "code",
   "execution_count": 2,
   "id": "incorporate-burning",
   "metadata": {},
   "outputs": [
    {
     "data": {
      "text/plain": [
       "'<html><head><title>The Dormouse\\'s story</title></head>\\n<body>\\n<p class=\"title\"><b>The Dormouse\\'s story</b></p>\\n\\n<p class=\"story\">Once upon a time there were three little sisters; and their names were\\n<a href=\"http://example.com/elsie\" class=\"sister\" id=\"link1\">Elsie</a>,\\n<a href=\"http://example.com/lacie\" class=\"sister\" id=\"link2\">Lacie</a> and\\n<a href=\"http://example.com/tillie\" class=\"sister\" id=\"link3\">Tillie</a>;\\nand they lived at the bottom of a well.</p>\\n\\n<p class=\"story\">...</p>\\n</body></html>'"
      ]
     },
     "execution_count": 2,
     "metadata": {},
     "output_type": "execute_result"
    }
   ],
   "source": [
    "html_doc"
   ]
  },
  {
   "cell_type": "code",
   "execution_count": 3,
   "id": "liable-opportunity",
   "metadata": {},
   "outputs": [],
   "source": [
    "import bs4\n",
    "from bs4 import BeautifulSoup "
   ]
  },
  {
   "cell_type": "code",
   "execution_count": 4,
   "id": "preliminary-trunk",
   "metadata": {},
   "outputs": [],
   "source": [
    "soup = BeautifulSoup(html_doc, 'html.parser')"
   ]
  },
  {
   "cell_type": "code",
   "execution_count": 5,
   "id": "spare-second",
   "metadata": {},
   "outputs": [
    {
     "data": {
      "text/plain": [
       "bs4.BeautifulSoup"
      ]
     },
     "execution_count": 5,
     "metadata": {},
     "output_type": "execute_result"
    }
   ],
   "source": [
    "type(soup)\n",
    "# all the website is stored into soup"
   ]
  },
  {
   "cell_type": "code",
   "execution_count": 6,
   "id": "pharmaceutical-cedar",
   "metadata": {},
   "outputs": [
    {
     "data": {
      "text/plain": [
       "'title'"
      ]
     },
     "execution_count": 6,
     "metadata": {},
     "output_type": "execute_result"
    }
   ],
   "source": [
    "# gertting the stitle name\n",
    "soup.title.name"
   ]
  },
  {
   "cell_type": "code",
   "execution_count": 7,
   "id": "computational-fifty",
   "metadata": {},
   "outputs": [
    {
     "data": {
      "text/plain": [
       "'head'"
      ]
     },
     "execution_count": 7,
     "metadata": {},
     "output_type": "execute_result"
    }
   ],
   "source": [
    "soup.title.parent.name"
   ]
  },
  {
   "cell_type": "code",
   "execution_count": 8,
   "id": "extreme-earthquake",
   "metadata": {},
   "outputs": [
    {
     "data": {
      "text/plain": [
       "['title']"
      ]
     },
     "execution_count": 8,
     "metadata": {},
     "output_type": "execute_result"
    }
   ],
   "source": [
    "soup.p['class']"
   ]
  },
  {
   "cell_type": "code",
   "execution_count": 9,
   "id": "foster-prediction",
   "metadata": {
    "scrolled": true
   },
   "outputs": [
    {
     "data": {
      "text/plain": [
       "[<p class=\"title\"><b>The Dormouse's story</b></p>,\n",
       " <p class=\"story\">Once upon a time there were three little sisters; and their names were\n",
       " <a class=\"sister\" href=\"http://example.com/elsie\" id=\"link1\">Elsie</a>,\n",
       " <a class=\"sister\" href=\"http://example.com/lacie\" id=\"link2\">Lacie</a> and\n",
       " <a class=\"sister\" href=\"http://example.com/tillie\" id=\"link3\">Tillie</a>;\n",
       " and they lived at the bottom of a well.</p>,\n",
       " <p class=\"story\">...</p>]"
      ]
     },
     "execution_count": 9,
     "metadata": {},
     "output_type": "execute_result"
    }
   ],
   "source": [
    "#givesu a list of all the tags\n",
    "soup.find_all('p')"
   ]
  },
  {
   "cell_type": "code",
   "execution_count": 10,
   "id": "retained-approach",
   "metadata": {},
   "outputs": [
    {
     "data": {
      "text/plain": [
       "'http://example.com/elsie'"
      ]
     },
     "execution_count": 10,
     "metadata": {},
     "output_type": "execute_result"
    }
   ],
   "source": [
    "soup.find_all('a')[0].get('href')"
   ]
  },
  {
   "cell_type": "code",
   "execution_count": 11,
   "id": "fifth-vatican",
   "metadata": {},
   "outputs": [
    {
     "name": "stdout",
     "output_type": "stream",
     "text": [
      "http://example.com/elsie\n",
      "http://example.com/lacie\n",
      "http://example.com/tillie\n"
     ]
    }
   ],
   "source": [
    "for atag in soup.find_all('a'):\n",
    "    print(atag.get('href'))"
   ]
  },
  {
   "cell_type": "markdown",
   "id": "current-registrar",
   "metadata": {},
   "source": [
    "## Option 2: using bs for css"
   ]
  },
  {
   "cell_type": "code",
   "execution_count": 12,
   "id": "exempt-wayne",
   "metadata": {},
   "outputs": [
    {
     "data": {
      "text/plain": [
       "[<a class=\"sister\" href=\"http://example.com/lacie\" id=\"link2\">Lacie</a>]"
      ]
     },
     "execution_count": 12,
     "metadata": {},
     "output_type": "execute_result"
    }
   ],
   "source": [
    "soup.select('#link2')"
   ]
  },
  {
   "cell_type": "code",
   "execution_count": 13,
   "id": "offshore-coalition",
   "metadata": {},
   "outputs": [
    {
     "data": {
      "text/plain": [
       "[<a class=\"sister\" href=\"http://example.com/elsie\" id=\"link1\">Elsie</a>,\n",
       " <a class=\"sister\" href=\"http://example.com/lacie\" id=\"link2\">Lacie</a>,\n",
       " <a class=\"sister\" href=\"http://example.com/tillie\" id=\"link3\">Tillie</a>]"
      ]
     },
     "execution_count": 13,
     "metadata": {},
     "output_type": "execute_result"
    }
   ],
   "source": [
    "#select all the a's.      \n",
    "soup.select('a')"
   ]
  },
  {
   "cell_type": "code",
   "execution_count": 14,
   "id": "junior-mortgage",
   "metadata": {},
   "outputs": [
    {
     "data": {
      "text/plain": [
       "<a class=\"sister\" href=\"http://example.com/elsie\" id=\"link1\">Elsie</a>"
      ]
     },
     "execution_count": 14,
     "metadata": {},
     "output_type": "execute_result"
    }
   ],
   "source": [
    "soup.select('a')[0]"
   ]
  },
  {
   "cell_type": "code",
   "execution_count": 15,
   "id": "potential-highlight",
   "metadata": {},
   "outputs": [
    {
     "data": {
      "text/plain": [
       "'Elsie'"
      ]
     },
     "execution_count": 15,
     "metadata": {},
     "output_type": "execute_result"
    }
   ],
   "source": [
    "soup.select('a')[0].text"
   ]
  },
  {
   "cell_type": "code",
   "execution_count": 16,
   "id": "drawn-desperate",
   "metadata": {},
   "outputs": [
    {
     "name": "stdout",
     "output_type": "stream",
     "text": [
      "Elsie\n",
      "Lacie\n",
      "Tillie\n"
     ]
    }
   ],
   "source": [
    "# how to iterate to take all the textes in a's\n",
    "for atag in soup.select('a'):\n",
    "    print(atag.text)"
   ]
  },
  {
   "cell_type": "markdown",
   "id": "suited-dispute",
   "metadata": {},
   "source": [
    "## Let's scrape imdb top 250"
   ]
  },
  {
   "cell_type": "code",
   "execution_count": 18,
   "id": "deb8ae78",
   "metadata": {},
   "outputs": [
    {
     "name": "stdout",
     "output_type": "stream",
     "text": [
      "Collecting package metadata (current_repodata.json): done\n",
      "Solving environment: done\n",
      "\n",
      "\n",
      "==> WARNING: A newer version of conda exists. <==\n",
      "  current version: 4.10.0\n",
      "  latest version: 4.10.1\n",
      "\n",
      "Please update conda by running\n",
      "\n",
      "    $ conda update -n base -c defaults conda\n",
      "\n",
      "\n",
      "\n",
      "## Package Plan ##\n",
      "\n",
      "  environment location: /Users/kcondeixa/opt/anaconda3/envs/ironhackenv\n",
      "\n",
      "  added / updated specs:\n",
      "    - tqdm\n",
      "\n",
      "\n",
      "The following packages will be downloaded:\n",
      "\n",
      "    package                    |            build\n",
      "    ---------------------------|-----------------\n",
      "    tqdm-4.50.2                |             py_0          55 KB  anaconda\n",
      "    ------------------------------------------------------------\n",
      "                                           Total:          55 KB\n",
      "\n",
      "The following NEW packages will be INSTALLED:\n",
      "\n",
      "  tqdm               anaconda/noarch::tqdm-4.50.2-py_0\n",
      "\n",
      "\n",
      "\n",
      "Downloading and Extracting Packages\n",
      "tqdm-4.50.2          | 55 KB     | ##################################### | 100% \n",
      "Preparing transaction: done\n",
      "Verifying transaction: done\n",
      "Executing transaction: done\n",
      "\n",
      "Note: you may need to restart the kernel to use updated packages.\n"
     ]
    }
   ],
   "source": [
    "conda install -c anaconda tqdm\n"
   ]
  },
  {
   "cell_type": "code",
   "execution_count": 17,
   "id": "positive-intervention",
   "metadata": {},
   "outputs": [
    {
     "ename": "ModuleNotFoundError",
     "evalue": "No module named 'tqdm'",
     "output_type": "error",
     "traceback": [
      "\u001b[0;31m---------------------------------------------------------------------------\u001b[0m",
      "\u001b[0;31mModuleNotFoundError\u001b[0m                       Traceback (most recent call last)",
      "\u001b[0;32m<ipython-input-17-e86f188036ca>\u001b[0m in \u001b[0;36m<module>\u001b[0;34m\u001b[0m\n\u001b[0;32m----> 1\u001b[0;31m \u001b[0;32mfrom\u001b[0m \u001b[0mtqdm\u001b[0m\u001b[0;34m.\u001b[0m\u001b[0mnotebook\u001b[0m \u001b[0;32mimport\u001b[0m \u001b[0mtqdm\u001b[0m\u001b[0;34m\u001b[0m\u001b[0;34m\u001b[0m\u001b[0m\n\u001b[0m",
      "\u001b[0;31mModuleNotFoundError\u001b[0m: No module named 'tqdm'"
     ]
    }
   ],
   "source": [
    "from tqdm.notebook import tqdm"
   ]
  },
  {
   "cell_type": "code",
   "execution_count": null,
   "id": "billion-shuttle",
   "metadata": {},
   "outputs": [],
   "source": [
    "# let's create the soup first\n",
    "import requests\n",
    "import pandas as pd\n",
    " "
   ]
  },
  {
   "cell_type": "code",
   "execution_count": null,
   "id": "absolute-commission",
   "metadata": {},
   "outputs": [],
   "source": [
    "# store html in a variable\n",
    "url = 'https://www.imdb.com/chart/top'"
   ]
  },
  {
   "cell_type": "code",
   "execution_count": null,
   "id": "acquired-easter",
   "metadata": {},
   "outputs": [],
   "source": [
    "#download the html with get request\n",
    "response = requests.get(url)\n"
   ]
  },
  {
   "cell_type": "code",
   "execution_count": null,
   "id": "wrong-conducting",
   "metadata": {},
   "outputs": [],
   "source": [
    "response.status_code #200 means successful    #400 bed request"
   ]
  },
  {
   "cell_type": "code",
   "execution_count": null,
   "id": "grateful-electric",
   "metadata": {},
   "outputs": [],
   "source": [
    "response.content #this is the pure html"
   ]
  },
  {
   "cell_type": "code",
   "execution_count": null,
   "id": "competent-albany",
   "metadata": {},
   "outputs": [],
   "source": [
    "soup = BeautifulSoup(response.content, 'html.parser')  #creating a soup to structure the html                       "
   ]
  },
  {
   "cell_type": "code",
   "execution_count": null,
   "id": "initial-sequence",
   "metadata": {},
   "outputs": [],
   "source": [
    "#copy the css selector format\n",
    "soup.select('#main > div > span > div > div > div.lister > table > tbody > tr:nth-child(1) > td.titleColumn > a')"
   ]
  },
  {
   "cell_type": "code",
   "execution_count": null,
   "id": "fabulous-adaptation",
   "metadata": {},
   "outputs": [],
   "source": [
    "# we spot the common factor that al the movies has\n",
    "# this gives me a list with all the title names\n",
    "soup.select('td.titleColumn a') # with the a ti da solo le 'a' values"
   ]
  },
  {
   "cell_type": "code",
   "execution_count": null,
   "id": "prerequisite-absorption",
   "metadata": {},
   "outputs": [],
   "source": [
    "#movie title\n",
    "soup.select('td.titleColumn a')[0].text # first row, only text"
   ]
  },
  {
   "cell_type": "code",
   "execution_count": null,
   "id": "solar-standard",
   "metadata": {},
   "outputs": [],
   "source": [
    "# Actors and directors stored in attributes\n",
    "soup.select('td.titleColumn a')[0]['title']"
   ]
  },
  {
   "cell_type": "code",
   "execution_count": null,
   "id": "classical-cosmetic",
   "metadata": {},
   "outputs": [],
   "source": [
    "#get the year\n",
    "soup.select('td.titleColumn span.secondaryInfo')[0].text"
   ]
  },
  {
   "cell_type": "code",
   "execution_count": null,
   "id": "congressional-digest",
   "metadata": {},
   "outputs": [],
   "source": [
    "# now we create a list # unnecessary code\n",
    "movie_list = soup.select('td.titleColumn a')\n",
    "year_list = soup.select('td.titleColumn span.secondaryInfo')"
   ]
  },
  {
   "cell_type": "code",
   "execution_count": null,
   "id": "available-civilian",
   "metadata": {},
   "outputs": [],
   "source": [
    "title = []\n",
    "dir_stars = []\n",
    "year = []\n",
    "\n",
    "len_movies = len(movie_list)\n",
    "\n",
    "for i in range(len_movies):\n",
    "    title.append(soup.select('td.titleColumn a')[i].text)\n",
    "    dir_stars.append(soup.select('td.titleColumn a')[i]['title'])\n",
    "    year.append(soup.select('td.titleColumn span.secondaryInfo')[i].text)"
   ]
  },
  {
   "cell_type": "code",
   "execution_count": null,
   "id": "experienced-grounds",
   "metadata": {},
   "outputs": [],
   "source": [
    "year"
   ]
  },
  {
   "cell_type": "code",
   "execution_count": null,
   "id": "oriental-assurance",
   "metadata": {},
   "outputs": [],
   "source": [
    "#year is dirty, we remove the \n",
    "year_clean = [yr.strip(')').strip('(') for yr in year]\n",
    "year_clean"
   ]
  },
  {
   "cell_type": "code",
   "execution_count": null,
   "id": "sharp-hypothetical",
   "metadata": {},
   "outputs": [],
   "source": [
    "#separate directors and actors\n",
    "actor1 = []\n",
    "actor2= []\n",
    "dir1 = []\n",
    "\n",
    "for dir_star in dir_stars:\n",
    "    temporary_people = dir_star.split(',')\n",
    "    dir1.append(temporary_people[0].replace('(dir.)',''))\n",
    "    actor1.append(temporary_people[1])\n",
    "    actor2.append(temporary_people[2])"
   ]
  },
  {
   "cell_type": "code",
   "execution_count": null,
   "id": "piano-accessory",
   "metadata": {},
   "outputs": [],
   "source": [
    "# create the dataframe with the variables\n",
    "movies = pd.DataFrame({'year': year,\n",
    "                       'title':title,\n",
    "                       'dir': dir1,\n",
    "                       'actor1':actor1,\n",
    "                       'actor2':actor2\n",
    "                      })"
   ]
  },
  {
   "cell_type": "code",
   "execution_count": null,
   "id": "absent-shopper",
   "metadata": {},
   "outputs": [],
   "source": [
    "movies"
   ]
  },
  {
   "cell_type": "code",
   "execution_count": null,
   "id": "comparable-hampton",
   "metadata": {},
   "outputs": [],
   "source": []
  }
 ],
 "metadata": {
  "kernelspec": {
   "display_name": "Python 3",
   "language": "python",
   "name": "python3"
  },
  "language_info": {
   "codemirror_mode": {
    "name": "ipython",
    "version": 3
   },
   "file_extension": ".py",
   "mimetype": "text/x-python",
   "name": "python",
   "nbconvert_exporter": "python",
   "pygments_lexer": "ipython3",
   "version": "3.8.8"
  },
  "toc": {
   "base_numbering": 1,
   "nav_menu": {},
   "number_sections": true,
   "sideBar": true,
   "skip_h1_title": false,
   "title_cell": "Table of Contents",
   "title_sidebar": "Contents",
   "toc_cell": false,
   "toc_position": {},
   "toc_section_display": true,
   "toc_window_display": false
  }
 },
 "nbformat": 4,
 "nbformat_minor": 5
}
