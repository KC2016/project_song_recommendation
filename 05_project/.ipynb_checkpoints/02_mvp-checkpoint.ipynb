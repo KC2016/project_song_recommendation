{
 "cells": [
  {
   "cell_type": "markdown",
   "id": "3b2f1465",
   "metadata": {},
   "source": [
    "### Create a function that checkif the song belong to the top 100 song¶\n"
   ]
  },
  {
   "cell_type": "code",
   "execution_count": 6,
   "id": "0d91270b",
   "metadata": {},
   "outputs": [],
   "source": [
    "import pandas as pd\n",
    "from bs4 import BeautifulSoup \n",
    "import requests\n",
    "from random import randint"
   ]
  },
  {
   "cell_type": "code",
   "execution_count": 7,
   "id": "7a0d6d0e",
   "metadata": {
    "scrolled": true
   },
   "outputs": [
    {
     "data": {
      "text/html": [
       "<div>\n",
       "<style scoped>\n",
       "    .dataframe tbody tr th:only-of-type {\n",
       "        vertical-align: middle;\n",
       "    }\n",
       "\n",
       "    .dataframe tbody tr th {\n",
       "        vertical-align: top;\n",
       "    }\n",
       "\n",
       "    .dataframe thead th {\n",
       "        text-align: right;\n",
       "    }\n",
       "</style>\n",
       "<table border=\"1\" class=\"dataframe\">\n",
       "  <thead>\n",
       "    <tr style=\"text-align: right;\">\n",
       "      <th></th>\n",
       "      <th>Rank</th>\n",
       "      <th>Artists</th>\n",
       "      <th>Song</th>\n",
       "    </tr>\n",
       "  </thead>\n",
       "  <tbody>\n",
       "    <tr>\n",
       "      <th>0</th>\n",
       "      <td>1</td>\n",
       "      <td>Polo G</td>\n",
       "      <td>Rapstar</td>\n",
       "    </tr>\n",
       "    <tr>\n",
       "      <th>1</th>\n",
       "      <td>2</td>\n",
       "      <td>Silk Sonic (Bruno Mars &amp; Anderson .Paak)</td>\n",
       "      <td>Leave The Door Open</td>\n",
       "    </tr>\n",
       "    <tr>\n",
       "      <th>2</th>\n",
       "      <td>3</td>\n",
       "      <td>Justin Bieber Featuring Daniel Caesar &amp; Giveon</td>\n",
       "      <td>Peaches</td>\n",
       "    </tr>\n",
       "    <tr>\n",
       "      <th>3</th>\n",
       "      <td>4</td>\n",
       "      <td>Lil Nas X</td>\n",
       "      <td>Montero (Call Me By Your Name)</td>\n",
       "    </tr>\n",
       "    <tr>\n",
       "      <th>4</th>\n",
       "      <td>5</td>\n",
       "      <td>Dua Lipa Featuring DaBaby</td>\n",
       "      <td>Levitating</td>\n",
       "    </tr>\n",
       "    <tr>\n",
       "      <th>...</th>\n",
       "      <td>...</td>\n",
       "      <td>...</td>\n",
       "      <td>...</td>\n",
       "    </tr>\n",
       "    <tr>\n",
       "      <th>95</th>\n",
       "      <td>96</td>\n",
       "      <td>Moneybagg Yo Featuring BIG30</td>\n",
       "      <td>Go!</td>\n",
       "    </tr>\n",
       "    <tr>\n",
       "      <th>96</th>\n",
       "      <td>97</td>\n",
       "      <td>Future &amp; Lil Uzi Vert</td>\n",
       "      <td>Drankin N Smokin</td>\n",
       "    </tr>\n",
       "    <tr>\n",
       "      <th>97</th>\n",
       "      <td>98</td>\n",
       "      <td>All Time Low Featuring Demi Lovato &amp; blackbear</td>\n",
       "      <td>Monsters</td>\n",
       "    </tr>\n",
       "    <tr>\n",
       "      <th>98</th>\n",
       "      <td>99</td>\n",
       "      <td>Young Thug &amp; Gunna Featuring Yak Gotti &amp; Lil Duke</td>\n",
       "      <td>Slatty</td>\n",
       "    </tr>\n",
       "    <tr>\n",
       "      <th>99</th>\n",
       "      <td>100</td>\n",
       "      <td>42 Dugg &amp; Roddy Ricch</td>\n",
       "      <td>4 Da Gang</td>\n",
       "    </tr>\n",
       "  </tbody>\n",
       "</table>\n",
       "<p>100 rows × 3 columns</p>\n",
       "</div>"
      ],
      "text/plain": [
       "    Rank                                            Artists  \\\n",
       "0      1                                             Polo G   \n",
       "1      2           Silk Sonic (Bruno Mars & Anderson .Paak)   \n",
       "2      3     Justin Bieber Featuring Daniel Caesar & Giveon   \n",
       "3      4                                          Lil Nas X   \n",
       "4      5                          Dua Lipa Featuring DaBaby   \n",
       "..   ...                                                ...   \n",
       "95    96                       Moneybagg Yo Featuring BIG30   \n",
       "96    97                              Future & Lil Uzi Vert   \n",
       "97    98    All Time Low Featuring Demi Lovato & blackbear    \n",
       "98    99  Young Thug & Gunna Featuring Yak Gotti & Lil Duke   \n",
       "99   100                              42 Dugg & Roddy Ricch   \n",
       "\n",
       "                              Song  \n",
       "0                          Rapstar  \n",
       "1              Leave The Door Open  \n",
       "2                          Peaches  \n",
       "3   Montero (Call Me By Your Name)  \n",
       "4                       Levitating  \n",
       "..                             ...  \n",
       "95                             Go!  \n",
       "96                Drankin N Smokin  \n",
       "97                        Monsters  \n",
       "98                          Slatty  \n",
       "99                       4 Da Gang  \n",
       "\n",
       "[100 rows x 3 columns]"
      ]
     },
     "execution_count": 7,
     "metadata": {},
     "output_type": "execute_result"
    }
   ],
   "source": [
    "path = '/Users/kcondeixa/repositories/ironhack-projects/project_song_recommendation/05_project/data/Billboard_scraping.csv'\n",
    "top100_df = pd.read_csv(path)\n",
    "top100_df"
   ]
  },
  {
   "cell_type": "code",
   "execution_count": 10,
   "id": "a1c9153a",
   "metadata": {},
   "outputs": [
    {
     "name": "stdout",
     "output_type": "stream",
     "text": [
      "what is the song? Bohemian Rapisody\n",
      "Wrong choice, this song is not hot\n",
      "You might also like Pick Up Your Feelings by Jazmine Sullivan\n"
     ]
    }
   ],
   "source": [
    "def recommender():\n",
    "    # input a song\n",
    "    song_choice = input(\"what is the song? \")\n",
    "    # answer if the song is in the list of the top 100\n",
    "    if len(song_choice)==0:\n",
    "        print(\"Please, write a song: \")\n",
    "        \n",
    "    else: \n",
    "        if song_choice in list(top100_df['Song']):\n",
    "            print('You have a good taste, this song is hot')\n",
    "        else:\n",
    "            print('Wrong choice, this song is not hot')\n",
    "            random_song = randint(0, len(top100_df)-1)\n",
    "            print(\"You might also like \" + top100_df[\"Song\"][random_song] + \" by \" + top100_df[\"Artists\"][random_song])\n",
    "    \n",
    "recommender()\n"
   ]
  },
  {
   "cell_type": "code",
   "execution_count": null,
   "id": "3fbc0df0",
   "metadata": {},
   "outputs": [],
   "source": [
    "# We tested with Bohemian Rapisody"
   ]
  },
  {
   "cell_type": "code",
   "execution_count": null,
   "id": "d0aa81d9",
   "metadata": {},
   "outputs": [],
   "source": []
  },
  {
   "cell_type": "code",
   "execution_count": null,
   "id": "691d7ebb",
   "metadata": {},
   "outputs": [],
   "source": []
  },
  {
   "cell_type": "code",
   "execution_count": null,
   "id": "f11f7c3d",
   "metadata": {},
   "outputs": [],
   "source": []
  },
  {
   "cell_type": "markdown",
   "id": "2035095d",
   "metadata": {},
   "source": [
    "phase1:\n",
    "- song not in list? \n",
    "- title appears multiple times?\n",
    "- invalid inputs (typos,empty)? \n",
    "\n",
    "\n",
    "phase2:\n",
    "- user interaction in the same notebook with  (?)\n",
    "- how many time do I want my scraper to run? \n",
    "- which song to recommend?\n",
    "- does it work with other people?"
   ]
  },
  {
   "cell_type": "code",
   "execution_count": null,
   "id": "fb8de865",
   "metadata": {},
   "outputs": [],
   "source": []
  }
 ],
 "metadata": {
  "kernelspec": {
   "display_name": "Python 3",
   "language": "python",
   "name": "python3"
  },
  "language_info": {
   "codemirror_mode": {
    "name": "ipython",
    "version": 3
   },
   "file_extension": ".py",
   "mimetype": "text/x-python",
   "name": "python",
   "nbconvert_exporter": "python",
   "pygments_lexer": "ipython3",
   "version": "3.8.8"
  },
  "toc": {
   "base_numbering": 1,
   "nav_menu": {},
   "number_sections": true,
   "sideBar": true,
   "skip_h1_title": false,
   "title_cell": "Table of Contents",
   "title_sidebar": "Contents",
   "toc_cell": false,
   "toc_position": {},
   "toc_section_display": true,
   "toc_window_display": false
  }
 },
 "nbformat": 4,
 "nbformat_minor": 5
}
