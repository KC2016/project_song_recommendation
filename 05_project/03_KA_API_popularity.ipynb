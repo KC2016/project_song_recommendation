{
 "cells": [
  {
   "cell_type": "code",
   "execution_count": null,
   "id": "89508881",
   "metadata": {},
   "outputs": [],
   "source": []
  },
  {
   "cell_type": "code",
   "execution_count": 6,
   "id": "8ec5ee73",
   "metadata": {},
   "outputs": [],
   "source": [
    "import spotipy\n",
    "from spotipy.oauth2 import SpotifyClientCredentials\n",
    "import getpass\n",
    "import pandas as pd"
   ]
  },
  {
   "cell_type": "code",
   "execution_count": 7,
   "id": "3a368cce",
   "metadata": {},
   "outputs": [],
   "source": [
    "# # hide the passwords\n",
    "# client_id=getpass.getpass('client-id?')\n",
    "# client_secret=getpass.getpass('client-secret?')"
   ]
  },
  {
   "cell_type": "code",
   "execution_count": 8,
   "id": "e96a9f8d",
   "metadata": {},
   "outputs": [],
   "source": [
    "client_id='5c1883b103534b7bb0057960a379e142'\n",
    "client_secret='4a64702efea6483e9c05ed48d17cf48c'"
   ]
  },
  {
   "cell_type": "code",
   "execution_count": 9,
   "id": "91f9e899",
   "metadata": {},
   "outputs": [],
   "source": [
    "# connect to the API\n",
    "sp = spotipy.Spotify(auth_manager=SpotifyClientCredentials(client_id=client_id,\n",
    "                                                           client_secret=client_secret))"
   ]
  },
  {
   "cell_type": "code",
   "execution_count": null,
   "id": "a097f40a",
   "metadata": {},
   "outputs": [],
   "source": []
  },
  {
   "cell_type": "code",
   "execution_count": 13,
   "id": "6f10e089",
   "metadata": {},
   "outputs": [
    {
     "name": "stdout",
     "output_type": "stream",
     "text": [
      "(10000, 4)\n"
     ]
    }
   ],
   "source": [
    "artist_name = []\n",
    "track_name = []\n",
    "popularity = []\n",
    "track_id = []\n",
    "year= 2020\n",
    "\n",
    "def get_artist_tracks_popularity(year): \n",
    "    for i in range(0,10000,50):\n",
    "        track_results = sp.search(q=year, limit=50)\n",
    "        for i, t in enumerate(track_results['tracks']['items']):\n",
    "            artist_name.append(t['artists'][0]['name'])\n",
    "            track_name.append(t['name'])\n",
    "            track_id.append(t['id'])\n",
    "            popularity.append(t['popularity'])\n",
    "    track_dataframe = pd.DataFrame({'artist_name' : artist_name, 'track_name' : track_name, 'track_id' : track_id, 'popularity' : popularity})\n",
    "    print(track_dataframe.shape)\n",
    "    track_dataframe.to_csv('artist_tracks_popularity.csv')\n",
    "    \n",
    "\n",
    "get_artist_tracks_popularity(year)  \n"
   ]
  },
  {
   "cell_type": "code",
   "execution_count": 16,
   "id": "1581b309",
   "metadata": {},
   "outputs": [
    {
     "data": {
      "text/html": [
       "<div>\n",
       "<style scoped>\n",
       "    .dataframe tbody tr th:only-of-type {\n",
       "        vertical-align: middle;\n",
       "    }\n",
       "\n",
       "    .dataframe tbody tr th {\n",
       "        vertical-align: top;\n",
       "    }\n",
       "\n",
       "    .dataframe thead th {\n",
       "        text-align: right;\n",
       "    }\n",
       "</style>\n",
       "<table border=\"1\" class=\"dataframe\">\n",
       "  <thead>\n",
       "    <tr style=\"text-align: right;\">\n",
       "      <th></th>\n",
       "      <th>Unnamed: 0</th>\n",
       "      <th>artist_name</th>\n",
       "      <th>track_name</th>\n",
       "      <th>track_id</th>\n",
       "      <th>popularity</th>\n",
       "    </tr>\n",
       "  </thead>\n",
       "  <tbody>\n",
       "    <tr>\n",
       "      <th>0</th>\n",
       "      <td>0</td>\n",
       "      <td>DJ Drewski</td>\n",
       "      <td>2020 Vision</td>\n",
       "      <td>1DbAHtgCbgMFGir1m8YxVB</td>\n",
       "      <td>53</td>\n",
       "    </tr>\n",
       "    <tr>\n",
       "      <th>1</th>\n",
       "      <td>1</td>\n",
       "      <td>Lil Uzi Vert</td>\n",
       "      <td>Futsal Shuffle 2020</td>\n",
       "      <td>2Ec33AVlkTTq8BHFgBTdQs</td>\n",
       "      <td>69</td>\n",
       "    </tr>\n",
       "    <tr>\n",
       "      <th>2</th>\n",
       "      <td>2</td>\n",
       "      <td>Mitch Rossell</td>\n",
       "      <td>2020</td>\n",
       "      <td>3OG2MwfPXYLvPMF4CK4Mo0</td>\n",
       "      <td>48</td>\n",
       "    </tr>\n",
       "    <tr>\n",
       "      <th>3</th>\n",
       "      <td>3</td>\n",
       "      <td>Tame Impala</td>\n",
       "      <td>Alter Ego - 2020 Mix</td>\n",
       "      <td>457sndKohlwTU6dW6amBMU</td>\n",
       "      <td>55</td>\n",
       "    </tr>\n",
       "    <tr>\n",
       "      <th>4</th>\n",
       "      <td>4</td>\n",
       "      <td>Logan Paul</td>\n",
       "      <td>2020</td>\n",
       "      <td>2IgzajjY7h18gjHvQ3LKZ5</td>\n",
       "      <td>51</td>\n",
       "    </tr>\n",
       "    <tr>\n",
       "      <th>...</th>\n",
       "      <td>...</td>\n",
       "      <td>...</td>\n",
       "      <td>...</td>\n",
       "      <td>...</td>\n",
       "      <td>...</td>\n",
       "    </tr>\n",
       "    <tr>\n",
       "      <th>9995</th>\n",
       "      <td>9995</td>\n",
       "      <td>Erroll Garner</td>\n",
       "      <td>Misty - Remastered 2020</td>\n",
       "      <td>2yiISACbYnL2hApy1ffKKs</td>\n",
       "      <td>59</td>\n",
       "    </tr>\n",
       "    <tr>\n",
       "      <th>9996</th>\n",
       "      <td>9996</td>\n",
       "      <td>Great Good Fine Ok</td>\n",
       "      <td>2020</td>\n",
       "      <td>0ktUOmqwFOpdPqqGMnmHqm</td>\n",
       "      <td>37</td>\n",
       "    </tr>\n",
       "    <tr>\n",
       "      <th>9997</th>\n",
       "      <td>9997</td>\n",
       "      <td>Lil Uzi Vert</td>\n",
       "      <td>Futsal Shuffle 2020 - Bonus Track</td>\n",
       "      <td>2Zykq8p6eYzEDanzCwI3Yd</td>\n",
       "      <td>55</td>\n",
       "    </tr>\n",
       "    <tr>\n",
       "      <th>9998</th>\n",
       "      <td>9998</td>\n",
       "      <td>Ben Folds</td>\n",
       "      <td>2020</td>\n",
       "      <td>0mJ35OaQMtOxmFhH0owTxS</td>\n",
       "      <td>35</td>\n",
       "    </tr>\n",
       "    <tr>\n",
       "      <th>9999</th>\n",
       "      <td>9999</td>\n",
       "      <td>Moguai</td>\n",
       "      <td>Hold On (feat. Cheat Codes) - 2020 Edit</td>\n",
       "      <td>2FGh2ref26EwA3Z5st5oHb</td>\n",
       "      <td>62</td>\n",
       "    </tr>\n",
       "  </tbody>\n",
       "</table>\n",
       "<p>10000 rows × 5 columns</p>\n",
       "</div>"
      ],
      "text/plain": [
       "      Unnamed: 0         artist_name                               track_name  \\\n",
       "0              0          DJ Drewski                              2020 Vision   \n",
       "1              1        Lil Uzi Vert                      Futsal Shuffle 2020   \n",
       "2              2       Mitch Rossell                                     2020   \n",
       "3              3         Tame Impala                     Alter Ego - 2020 Mix   \n",
       "4              4          Logan Paul                                     2020   \n",
       "...          ...                 ...                                      ...   \n",
       "9995        9995       Erroll Garner                  Misty - Remastered 2020   \n",
       "9996        9996  Great Good Fine Ok                                     2020   \n",
       "9997        9997        Lil Uzi Vert        Futsal Shuffle 2020 - Bonus Track   \n",
       "9998        9998           Ben Folds                                     2020   \n",
       "9999        9999              Moguai  Hold On (feat. Cheat Codes) - 2020 Edit   \n",
       "\n",
       "                    track_id  popularity  \n",
       "0     1DbAHtgCbgMFGir1m8YxVB          53  \n",
       "1     2Ec33AVlkTTq8BHFgBTdQs          69  \n",
       "2     3OG2MwfPXYLvPMF4CK4Mo0          48  \n",
       "3     457sndKohlwTU6dW6amBMU          55  \n",
       "4     2IgzajjY7h18gjHvQ3LKZ5          51  \n",
       "...                      ...         ...  \n",
       "9995  2yiISACbYnL2hApy1ffKKs          59  \n",
       "9996  0ktUOmqwFOpdPqqGMnmHqm          37  \n",
       "9997  2Zykq8p6eYzEDanzCwI3Yd          55  \n",
       "9998  0mJ35OaQMtOxmFhH0owTxS          35  \n",
       "9999  2FGh2ref26EwA3Z5st5oHb          62  \n",
       "\n",
       "[10000 rows x 5 columns]"
      ]
     },
     "execution_count": 16,
     "metadata": {},
     "output_type": "execute_result"
    }
   ],
   "source": [
    "path='artist_tracks_popularity.csv'\n",
    "df = pd.read_csv(path)\n",
    "df"
   ]
  },
  {
   "cell_type": "code",
   "execution_count": null,
   "id": "7eac8391",
   "metadata": {},
   "outputs": [],
   "source": [
    "# check the keys\n",
    "track_dataframe['tracks']['items'][0].keys()"
   ]
  },
  {
   "cell_type": "code",
   "execution_count": null,
   "id": "334b42ec",
   "metadata": {},
   "outputs": [],
   "source": []
  },
  {
   "cell_type": "code",
   "execution_count": null,
   "id": "a22d803b",
   "metadata": {},
   "outputs": [],
   "source": []
  },
  {
   "cell_type": "code",
   "execution_count": null,
   "id": "698fd2b6",
   "metadata": {},
   "outputs": [],
   "source": []
  },
  {
   "cell_type": "code",
   "execution_count": null,
   "id": "9e12a2ea",
   "metadata": {},
   "outputs": [],
   "source": []
  },
  {
   "cell_type": "code",
   "execution_count": null,
   "id": "26aedbd6",
   "metadata": {},
   "outputs": [],
   "source": []
  },
  {
   "cell_type": "code",
   "execution_count": null,
   "id": "0baba9a9",
   "metadata": {},
   "outputs": [],
   "source": []
  },
  {
   "cell_type": "code",
   "execution_count": null,
   "id": "33ab4821",
   "metadata": {},
   "outputs": [],
   "source": []
  },
  {
   "cell_type": "code",
   "execution_count": null,
   "id": "2ccf291c",
   "metadata": {},
   "outputs": [],
   "source": []
  },
  {
   "cell_type": "code",
   "execution_count": null,
   "id": "9e763b27",
   "metadata": {},
   "outputs": [],
   "source": []
  }
 ],
 "metadata": {
  "kernelspec": {
   "display_name": "Python 3",
   "language": "python",
   "name": "python3"
  },
  "language_info": {
   "codemirror_mode": {
    "name": "ipython",
    "version": 3
   },
   "file_extension": ".py",
   "mimetype": "text/x-python",
   "name": "python",
   "nbconvert_exporter": "python",
   "pygments_lexer": "ipython3",
   "version": "3.8.8"
  },
  "toc": {
   "base_numbering": 1,
   "nav_menu": {},
   "number_sections": true,
   "sideBar": true,
   "skip_h1_title": false,
   "title_cell": "Table of Contents",
   "title_sidebar": "Contents",
   "toc_cell": false,
   "toc_position": {},
   "toc_section_display": true,
   "toc_window_display": false
  }
 },
 "nbformat": 4,
 "nbformat_minor": 5
}
